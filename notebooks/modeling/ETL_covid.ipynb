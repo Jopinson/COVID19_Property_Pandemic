{
 "cells": [
  {
   "cell_type": "code",
   "execution_count": null,
   "metadata": {},
   "outputs": [],
   "source": [
    "import pandas as pd"
   ]
  },
  {
   "cell_type": "code",
   "execution_count": null,
   "metadata": {},
   "outputs": [],
   "source": [
    "df = pd.read_csv(\"Difference_by_Month.csv\") \n",
    "df.head()"
   ]
  },
  {
   "cell_type": "code",
   "execution_count": null,
   "metadata": {},
   "outputs": [],
   "source": [
    "fl_df = df.loc[df[\"Province_State\"]==\"Florida\"]\n",
    "fl_df"
   ]
  },
  {
   "cell_type": "code",
   "execution_count": null,
   "metadata": {},
   "outputs": [],
   "source": [
    "#Drop the Total Amounts Per Month\n",
    "fl_df = fl_df.drop(columns=['Total Jan-20','Total Feb-20','Total Mar-20','Total Apr-20','Total May-20','Total Jun-20','Total Jul-20','Total Aug-20','Total Sep-20','Total Oct-20','Total Nov-20','Total Dec-20'])\n",
    "fl_df"
   ]
  },
  {
   "cell_type": "code",
   "execution_count": null,
   "metadata": {},
   "outputs": [],
   "source": [
    "#Difference In Covid Cases/Month for Florida\n",
    "cleaned_covid_data_FL = fl_df.rename(columns={'Diff in Jan-Feb':'01/31/2020','Diff in Feb-Mar':'02/28/2020','Diff in Mar-Apr':'03/31/2020','Diff in Apr-May':'04/30/2020','Diff in May-Jun':'05/31/2020','Diff in Jun-Jul':'06/30/2020','Diff in Jul-Aug':'07/31/2020','Diff in Aug-Sep':'08/31/2020','Diff in Sep-Oct':'09/30/2020','Diff in Oct-Nov':'10/31/2020'})\n",
    "cleaned_covid_data_FL"
   ]
  },
  {
   "cell_type": "code",
   "execution_count": null,
   "metadata": {},
   "outputs": [],
   "source": [
    "#Save to csv file\n",
    "cleaned_covid_data_FL.to_csv(r'C:\\Users\\Conle\\Desktop\\Data_Bootcamp\\Final Project\\cleaned_covid_data_FL.csv', index = False)"
   ]
  },
  {
   "cell_type": "code",
   "execution_count": null,
   "metadata": {},
   "outputs": [],
   "source": [
    "df = pd.read_csv(\"Difference_by_Month.csv\") \n",
    "df.head()"
   ]
  },
  {
   "cell_type": "code",
   "execution_count": null,
   "metadata": {},
   "outputs": [],
   "source": [
    "#Locate California Covid Cases Only\n",
    "ca_df = df.loc[df[\"Province_State\"]==\"California\"]\n",
    "ca_df"
   ]
  },
  {
   "cell_type": "code",
   "execution_count": null,
   "metadata": {},
   "outputs": [],
   "source": [
    "#Drop Total Number Columns\n",
    "ca_df = ca_df.drop(columns=['Total Jan-20','Total Feb-20','Total Mar-20','Total Apr-20','Total May-20','Total Jun-20','Total Jul-20','Total Aug-20','Total Sep-20','Total Oct-20','Total Nov-20','Total Dec-20'])\n",
    "ca_df"
   ]
  },
  {
   "cell_type": "code",
   "execution_count": null,
   "metadata": {},
   "outputs": [],
   "source": [
    "#Difference In Covid Cases/Month for California\n",
    "cleaned_covid_data_CA = ca_df.rename(columns={'Diff in Jan-Feb':'01/31/2020','Diff in Feb-Mar':'02/28/2020','Diff in Mar-Apr':'03/31/2020','Diff in Apr-May':'04/30/2020','Diff in May-Jun':'05/31/2020','Diff in Jun-Jul':'06/30/2020','Diff in Jul-Aug':'07/31/2020','Diff in Aug-Sep':'08/31/2020','Diff in Sep-Oct':'09/30/2020','Diff in Oct-Nov':'10/31/2020'})\n",
    "cleaned_covid_data_CA"
   ]
  },
  {
   "cell_type": "code",
   "execution_count": null,
   "metadata": {},
   "outputs": [],
   "source": [
    "#Save to csv file\n",
    "cleaned_covid_data_CA.to_csv(r'C:\\Users\\Conle\\Desktop\\Data_Bootcamp\\Final Project\\cleaned_covid_data_CA.csv', index = False)"
   ]
  },
  {
   "cell_type": "code",
   "execution_count": null,
   "metadata": {},
   "outputs": [],
   "source": []
  }
 ],
 "metadata": {
  "kernelspec": {
   "display_name": "PythonData",
   "language": "python",
   "name": "pythondata"
  },
  "language_info": {
   "codemirror_mode": {
    "name": "ipython",
    "version": 3
   },
   "file_extension": ".py",
   "mimetype": "text/x-python",
   "name": "python",
   "nbconvert_exporter": "python",
   "pygments_lexer": "ipython3",
   "version": "3.8.3"
  }
 },
 "nbformat": 4,
 "nbformat_minor": 4
}
